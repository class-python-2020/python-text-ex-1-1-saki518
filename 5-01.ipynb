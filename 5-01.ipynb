{
 "metadata": {
  "language_info": {
   "codemirror_mode": {
    "name": "ipython",
    "version": 3
   },
   "file_extension": ".py",
   "mimetype": "text/x-python",
   "name": "python",
   "nbconvert_exporter": "python",
   "pygments_lexer": "ipython3",
   "version": 3
  },
  "orig_nbformat": 2,
  "kernelspec": {
   "name": "python_defaultSpec_1597982479852",
   "display_name": "Python 3.8.2 32-bit"
  }
 },
 "nbformat": 4,
 "nbformat_minor": 2,
 "cells": [
  {
   "cell_type": "code",
   "execution_count": 15,
   "metadata": {},
   "outputs": [],
   "source": [
    "square = []\n",
    "square.append(1)\n",
    "square.append(4)\n",
    "square.append(9)\n",
    "square.append(16)\n",
    "square.append(25)"
   ]
  },
  {
   "cell_type": "code",
   "execution_count": 16,
   "metadata": {},
   "outputs": [
    {
     "output_type": "execute_result",
     "data": {
      "text/plain": "[1, 4, 9, 16, 25]"
     },
     "metadata": {},
     "execution_count": 16
    }
   ],
   "source": [
    "square"
   ]
  },
  {
   "cell_type": "code",
   "execution_count": 17,
   "metadata": {},
   "outputs": [],
   "source": [
    "square2 = [36, 49]\n",
    "square.extend(square2)"
   ]
  },
  {
   "cell_type": "code",
   "execution_count": 18,
   "metadata": {},
   "outputs": [
    {
     "output_type": "execute_result",
     "data": {
      "text/plain": "[1, 4, 9, 16, 25, 36, 49]"
     },
     "metadata": {},
     "execution_count": 18
    }
   ],
   "source": [
    "square"
   ]
  },
  {
   "cell_type": "code",
   "execution_count": 19,
   "metadata": {},
   "outputs": [],
   "source": [
    "square.insert(2,7)"
   ]
  },
  {
   "cell_type": "code",
   "execution_count": 20,
   "metadata": {},
   "outputs": [
    {
     "output_type": "execute_result",
     "data": {
      "text/plain": "[1, 4, 7, 9, 16, 25, 36, 49]"
     },
     "metadata": {},
     "execution_count": 20
    }
   ],
   "source": [
    "square"
   ]
  },
  {
   "cell_type": "code",
   "execution_count": 21,
   "metadata": {},
   "outputs": [],
   "source": [
    "square.remove(7)"
   ]
  },
  {
   "cell_type": "code",
   "execution_count": 22,
   "metadata": {},
   "outputs": [
    {
     "output_type": "execute_result",
     "data": {
      "text/plain": "[1, 4, 9, 16, 25, 36, 49]"
     },
     "metadata": {},
     "execution_count": 22
    }
   ],
   "source": [
    "square"
   ]
  },
  {
   "cell_type": "code",
   "execution_count": 23,
   "metadata": {},
   "outputs": [
    {
     "output_type": "execute_result",
     "data": {
      "text/plain": "4"
     },
     "metadata": {},
     "execution_count": 23
    }
   ],
   "source": [
    "square.pop(1)"
   ]
  },
  {
   "cell_type": "code",
   "execution_count": 25,
   "metadata": {},
   "outputs": [
    {
     "output_type": "execute_result",
     "data": {
      "text/plain": "[1, 9, 16, 25, 36, 49]"
     },
     "metadata": {},
     "execution_count": 25
    }
   ],
   "source": [
    "square"
   ]
  },
  {
   "cell_type": "code",
   "execution_count": 26,
   "metadata": {},
   "outputs": [],
   "source": [
    "square.clear()"
   ]
  },
  {
   "cell_type": "code",
   "execution_count": 27,
   "metadata": {},
   "outputs": [
    {
     "output_type": "execute_result",
     "data": {
      "text/plain": "[]"
     },
     "metadata": {},
     "execution_count": 27
    }
   ],
   "source": [
    "square"
   ]
  },
  {
   "cell_type": "code",
   "execution_count": 28,
   "metadata": {},
   "outputs": [
    {
     "output_type": "execute_result",
     "data": {
      "text/plain": "3"
     },
     "metadata": {},
     "execution_count": 28
    }
   ],
   "source": [
    "square = [1,4,9,16,25]\n",
    "square.index(16)"
   ]
  },
  {
   "cell_type": "code",
   "execution_count": 30,
   "metadata": {},
   "outputs": [
    {
     "output_type": "execute_result",
     "data": {
      "text/plain": "1"
     },
     "metadata": {},
     "execution_count": 30
    }
   ],
   "source": [
    "square = [1,4,9,16,25]\n",
    "square.count(16)"
   ]
  },
  {
   "cell_type": "code",
   "execution_count": 33,
   "metadata": {},
   "outputs": [
    {
     "output_type": "execute_result",
     "data": {
      "text/plain": "[1, 4, 9, 16, 25]"
     },
     "metadata": {},
     "execution_count": 33
    }
   ],
   "source": [
    "square = [16,9,25,1,4]\n",
    "square.sort()\n",
    "square"
   ]
  },
  {
   "cell_type": "code",
   "execution_count": 44,
   "metadata": {},
   "outputs": [
    {
     "output_type": "execute_result",
     "data": {
      "text/plain": "[[99, 58, 33], [5, 8, 10], [21, 2, 9], [7, 3, 2]]"
     },
     "metadata": {},
     "execution_count": 44
    }
   ],
   "source": [
    "x = [[5,8,10],\n",
    "    [7,3,2],\n",
    "    [21,2,9],\n",
    "    [99,58,33]]\n",
    "x.sort(key=lambda x:x[2], reverse=True)\n",
    "x"
   ]
  },
  {
   "cell_type": "code",
   "execution_count": 47,
   "metadata": {},
   "outputs": [
    {
     "output_type": "execute_result",
     "data": {
      "text/plain": "[25, 16, 9, 4, 1]"
     },
     "metadata": {},
     "execution_count": 47
    }
   ],
   "source": [
    "square = [1,4,9,16,25]\n",
    "square.reverse()\n",
    "square"
   ]
  },
  {
   "cell_type": "code",
   "execution_count": 49,
   "metadata": {},
   "outputs": [
    {
     "output_type": "execute_result",
     "data": {
      "text/plain": "[[1, 4, 6], [16, 25]]"
     },
     "metadata": {},
     "execution_count": 49
    }
   ],
   "source": [
    "square = [[1,4,6],[16,25]]\n",
    "square2 = square.copy()\n",
    "square2"
   ]
  },
  {
   "cell_type": "code",
   "execution_count": 50,
   "metadata": {
    "tags": []
   },
   "outputs": [
    {
     "output_type": "stream",
     "name": "stdout",
     "text": "Suzuki\n"
    }
   ],
   "source": [
    "members = ['Yamada','Tanaka','Satou','Suzuki']\n",
    "name = members.pop(3)\n",
    "print(name)"
   ]
  },
  {
   "cell_type": "code",
   "execution_count": 51,
   "metadata": {
    "tags": []
   },
   "outputs": [
    {
     "output_type": "stream",
     "name": "stdout",
     "text": "stack: [1]\nstack: [1, 2]\npop 1st value: 2\npop 2nd value: 1\nstack: []\n"
    }
   ],
   "source": [
    "stack = []\n",
    "stack.append(1)\n",
    "print('stack:',stack)\n",
    "stack.append(2)\n",
    "print('stack:',stack)\n",
    "print('pop 1st value:',stack.pop())\n",
    "print('pop 2nd value:',stack.pop())\n",
    "print('stack:',stack)"
   ]
  },
  {
   "cell_type": "code",
   "execution_count": 52,
   "metadata": {
    "tags": []
   },
   "outputs": [
    {
     "output_type": "stream",
     "name": "stdout",
     "text": "queue: [1]\nqueue: [1, 2]\npop from queue 1st value: 1\npop from queue 2nd value: 2\nqueue: []\n"
    }
   ],
   "source": [
    "queue = []\n",
    "queue.append(1)\n",
    "print('queue:',queue)\n",
    "queue.append(2)\n",
    "print('queue:',queue)\n",
    "print('pop from queue 1st value:',queue.pop(0))\n",
    "print('pop from queue 2nd value:',queue.pop(0))\n",
    "print('queue:',queue)"
   ]
  },
  {
   "cell_type": "code",
   "execution_count": 53,
   "metadata": {
    "tags": []
   },
   "outputs": [
    {
     "output_type": "stream",
     "name": "stdout",
     "text": "queue: [1]\nqueue: [1, 2]\npop from queue 1st value: 1\npop from queue 2nd vaule: 2\nqueue: []\n"
    }
   ],
   "source": [
    "queue = []\n",
    "queue.append(1)\n",
    "print('queue:',queue)\n",
    "queue.append(2)\n",
    "print('queue:',queue)\n",
    "print('pop from queue 1st value:',queue.pop(0))\n",
    "print('pop from queue 2nd vaule:',queue.pop(0))\n",
    "print('queue:',queue)"
   ]
  },
  {
   "cell_type": "code",
   "execution_count": 54,
   "metadata": {
    "tags": []
   },
   "outputs": [
    {
     "output_type": "stream",
     "name": "stdout",
     "text": "queue: deque([1, 2, 3, 4])\npopleft from queue 1st value: 1\npopleft from queue 2nd value: 2\nqueue: deque([3, 4])\n"
    }
   ],
   "source": [
    "from collections import deque\n",
    "queue = deque([1,2])\n",
    "queue.append(3)\n",
    "queue.append(4)\n",
    "print('queue:',queue)\n",
    "print('popleft from queue 1st value:',queue.popleft())\n",
    "print('popleft from queue 2nd value:',queue.popleft())\n",
    "print('queue:',queue)"
   ]
  },
  {
   "cell_type": "code",
   "execution_count": 55,
   "metadata": {},
   "outputs": [
    {
     "output_type": "execute_result",
     "data": {
      "text/plain": "[[1, 2], [3, 4]]"
     },
     "metadata": {},
     "execution_count": 55
    }
   ],
   "source": [
    "a = [1,2]\n",
    "b = [3,4]\n",
    "x = [a,b]\n",
    "x"
   ]
  },
  {
   "cell_type": "code",
   "execution_count": 56,
   "metadata": {},
   "outputs": [
    {
     "output_type": "execute_result",
     "data": {
      "text/plain": "[[99, 2], [3, 4]]"
     },
     "metadata": {},
     "execution_count": 56
    }
   ],
   "source": [
    "a[0]=99\n",
    "x"
   ]
  },
  {
   "cell_type": "code",
   "execution_count": 62,
   "metadata": {},
   "outputs": [
    {
     "output_type": "execute_result",
     "data": {
      "text/plain": "[[4, 4, 9], [16, 25]]"
     },
     "metadata": {},
     "execution_count": 62
    }
   ],
   "source": [
    "import copy\n",
    "square = [[1,4,9],[16,25]]\n",
    "square2 = copy.copy(square)\n",
    "square[0][0] = 4\n",
    "square2"
   ]
  },
  {
   "cell_type": "code",
   "execution_count": 63,
   "metadata": {},
   "outputs": [
    {
     "output_type": "execute_result",
     "data": {
      "text/plain": "[[36], [16, 25]]"
     },
     "metadata": {},
     "execution_count": 63
    }
   ],
   "source": [
    "import copy\n",
    "square = [[1,4,9],[16,25]]\n",
    "square2 = copy.copy(square)\n",
    "square[0] = [36]\n",
    "square"
   ]
  },
  {
   "cell_type": "code",
   "execution_count": 64,
   "metadata": {},
   "outputs": [
    {
     "output_type": "execute_result",
     "data": {
      "text/plain": "[[1, 4, 9], [16, 25]]"
     },
     "metadata": {},
     "execution_count": 64
    }
   ],
   "source": [
    "square2"
   ]
  },
  {
   "cell_type": "code",
   "execution_count": 65,
   "metadata": {},
   "outputs": [
    {
     "output_type": "execute_result",
     "data": {
      "text/plain": "[[36], [16, 25]]"
     },
     "metadata": {},
     "execution_count": 65
    }
   ],
   "source": [
    "import copy\n",
    "square = [[1,4,9],[16,25]]\n",
    "square2 = square\n",
    "square[0] = [36]\n",
    "square"
   ]
  },
  {
   "cell_type": "code",
   "execution_count": 66,
   "metadata": {},
   "outputs": [
    {
     "output_type": "execute_result",
     "data": {
      "text/plain": "[[36], [16, 25]]"
     },
     "metadata": {},
     "execution_count": 66
    }
   ],
   "source": [
    "square2"
   ]
  },
  {
   "cell_type": "code",
   "execution_count": 67,
   "metadata": {},
   "outputs": [
    {
     "output_type": "execute_result",
     "data": {
      "text/plain": "[[1, 4, 9], [16, 25]]"
     },
     "metadata": {},
     "execution_count": 67
    }
   ],
   "source": [
    "import copy\n",
    "square = [[1,4,9],[16,25]]\n",
    "square2 = copy.deepcopy(square)\n",
    "square[0][0] = 99\n",
    "square[1] = 999\n",
    "square2"
   ]
  },
  {
   "cell_type": "code",
   "execution_count": 68,
   "metadata": {},
   "outputs": [
    {
     "output_type": "execute_result",
     "data": {
      "text/plain": "[[99, 4, 9], 999]"
     },
     "metadata": {},
     "execution_count": 68
    }
   ],
   "source": [
    "square"
   ]
  },
  {
   "cell_type": "code",
   "execution_count": null,
   "metadata": {},
   "outputs": [],
   "source": []
  }
 ]
}