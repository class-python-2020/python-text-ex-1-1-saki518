{
 "metadata": {
  "language_info": {
   "codemirror_mode": {
    "name": "ipython",
    "version": 3
   },
   "file_extension": ".py",
   "mimetype": "text/x-python",
   "name": "python",
   "nbconvert_exporter": "python",
   "pygments_lexer": "ipython3",
   "version": 3
  },
  "orig_nbformat": 2,
  "kernelspec": {
   "name": "python_defaultSpec_1598083137225",
   "display_name": "Python 3.8.2 32-bit"
  }
 },
 "nbformat": 4,
 "nbformat_minor": 2,
 "cells": [
  {
   "cell_type": "code",
   "execution_count": 1,
   "metadata": {},
   "outputs": [
    {
     "output_type": "execute_result",
     "data": {
      "text/plain": "{0: 0, 1: 1, 2: 4, 3: 9, 4: 16, 5: 25, 6: 36, 7: 49, 8: 64, 9: 81, 10: 100}"
     },
     "metadata": {},
     "execution_count": 1
    }
   ],
   "source": [
    "square_dict = {x:x*x for x in range(11)}\n",
    "square_dict"
   ]
  },
  {
   "cell_type": "code",
   "execution_count": 2,
   "metadata": {},
   "outputs": [
    {
     "output_type": "execute_result",
     "data": {
      "text/plain": "{(0, 0): 0, (0, 1): 0, (1, 0): 0, (1, 1): 1}"
     },
     "metadata": {},
     "execution_count": 2
    }
   ],
   "source": [
    "multiplicated_xy_dict = {(x,y):x*y for x in range(2) for y in range(2)}\n",
    "multiplicated_xy_dict"
   ]
  },
  {
   "cell_type": "code",
   "execution_count": 5,
   "metadata": {},
   "outputs": [
    {
     "output_type": "execute_result",
     "data": {
      "text/plain": "{('Hokkaidou', 'Sapporo'): 100,\n ('Hokkaidou', 'Hakodate'): 200,\n ('Tokyo', 'Minato'): 300,\n ('Kanagawa', 'Yokohama'): 400}"
     },
     "metadata": {},
     "execution_count": 5
    }
   ],
   "source": [
    "prefectures = ['Hokkaidou','Hokkaidou','Tokyo','Kanagawa']\n",
    "cities = ['Sapporo','Hakodate','Minato','Yokohama']\n",
    "populations = [100,200,300,400]\n",
    "population_dict = {(state,city):population for state,city,population in zip(prefectures,cities,populations)}\n",
    "population_dict"
   ]
  },
  {
   "cell_type": "code",
   "execution_count": 6,
   "metadata": {},
   "outputs": [
    {
     "output_type": "execute_result",
     "data": {
      "text/plain": "{(0, 0): 0, (0, 1): 0, (1, 0): 0, (1, 1): 1}"
     },
     "metadata": {},
     "execution_count": 6
    }
   ],
   "source": [
    "multipllicated_xy_setdict = {frozenset([x,y]):x*y for x in range(2) for y in range(2)}\n",
    "multiplicated_xy_dict"
   ]
  },
  {
   "cell_type": "code",
   "execution_count": 7,
   "metadata": {},
   "outputs": [
    {
     "output_type": "execute_result",
     "data": {
      "text/plain": "{0: {0: 0, 1: 0, 2: 0}, 1: {0: 0, 1: 1, 2: 2}, 2: {0: 0, 1: 2, 2: 4}}"
     },
     "metadata": {},
     "execution_count": 7
    }
   ],
   "source": [
    "{0:{0:0,1:0,2:0},1:{0:0,1:1,2:2},2:{0:0,1:2,2:4}}"
   ]
  },
  {
   "cell_type": "code",
   "execution_count": 9,
   "metadata": {},
   "outputs": [
    {
     "output_type": "execute_result",
     "data": {
      "text/plain": "{0: {0: 0, 1: 0, 2: 0}, 1: {0: 0, 1: 1, 2: 2}, 2: {0: 0, 1: 2, 2: 4}}"
     },
     "metadata": {},
     "execution_count": 9
    }
   ],
   "source": [
    "multiplicated_xy_dict = {}\n",
    "I = 3\n",
    "J = 3\n",
    "for i in range(I):\n",
    "    multiplicated_xy_dict[i] = {}\n",
    "    for j in range(J):\n",
    "        multiplicated_xy_dict[i][j] = i*j\n",
    "multiplicated_xy_dict"
   ]
  },
  {
   "cell_type": "code",
   "execution_count": 10,
   "metadata": {},
   "outputs": [
    {
     "output_type": "execute_result",
     "data": {
      "text/plain": "{0: {0: 0, 1: 0, 2: 0}, 1: {0: 0, 1: 1, 2: 2}, 2: {0: 0, 1: 2, 2: 4}}"
     },
     "metadata": {},
     "execution_count": 10
    }
   ],
   "source": [
    "I = 3\n",
    "J = 3\n",
    "multiplicated_xy_dict = {i:{j:(i*j) for j in range(J)} for i in range(I)}\n",
    "multiplicated_xy_dict"
   ]
  },
  {
   "cell_type": "code",
   "execution_count": 11,
   "metadata": {},
   "outputs": [
    {
     "output_type": "execute_result",
     "data": {
      "text/plain": "4"
     },
     "metadata": {},
     "execution_count": 11
    }
   ],
   "source": [
    "multiplicated_xy_dict[2][2]"
   ]
  },
  {
   "cell_type": "code",
   "execution_count": 12,
   "metadata": {
    "tags": []
   },
   "outputs": [
    {
     "output_type": "stream",
     "name": "stdout",
     "text": "key1\tkey2\tval\n0\t0\t0\n0\t1\t0\n0\t2\t0\n1\t0\t0\n1\t1\t1\n1\t2\t2\n2\t0\t0\n2\t1\t2\n2\t2\t4\n"
    }
   ],
   "source": [
    "print('key1','key2','val',sep='\\t')\n",
    "for i,v1 in multiplicated_xy_dict.items():\n",
    "    for j,v2 in v1.items():\n",
    "        print(i,j,v2,sep='\\t')"
   ]
  },
  {
   "cell_type": "code",
   "execution_count": 15,
   "metadata": {
    "tags": []
   },
   "outputs": [
    {
     "output_type": "stream",
     "name": "stdout",
     "text": "Iceland {'code': 354, 'capital': 'Reykjavik'}\nIraland {'code': 354, 'capital': 'Dublin'}\nAzerbaidjan {'code': 994, 'capital': 'Baku'}\n"
    }
   ],
   "source": [
    "country_code = {\n",
    "    'Iceland':{'code':354,'capital':'Reykjavik'},\n",
    "    'Iraland':{'code':354,'capital':'Dublin'},\n",
    "    'Azerbaidjan':{'code':994,'capital':'Baku'}\n",
    "    }\n",
    "\n",
    "def getstr_keyval(x):\n",
    "        if isinstance(x,dict):\n",
    "            return x\n",
    "\n",
    "        my_str = ''\n",
    "        for key,val in x.items():\n",
    "            my_str += (' ' + str(key) + ' ' + getstr_keyval(val))\n",
    "        return my_str\n",
    "    \n",
    "for key1,val1 in country_code.items():\n",
    "    print(key1,getstr_keyval(val1))"
   ]
  },
  {
   "cell_type": "code",
   "execution_count": 16,
   "metadata": {},
   "outputs": [
    {
     "output_type": "execute_result",
     "data": {
      "text/plain": "[['01', '0001', 'Male', 'Yamada', 'Tarou', 25, 'Tokyo'],\n ['01', '0002', 'Male', 'Satou', 'Takeshi', 27, 'Kanagawa'],\n ['01', '0003', 'Female', 'Tanaka', 'Yuko', 25, 'Saitama'],\n ['02', '0001', 'Male', 'Smith', 'Mike', 22, 'NewJersey'],\n ['02', '0002', 'Male', 'Turner', 'Tom', 27, 'Kansas'],\n ['02', '0003', 'Male', 'Jackson', 'David', 22, 'Florida']]"
     },
     "metadata": {},
     "execution_count": 16
    }
   ],
   "source": [
    "data = [\n",
    "    ['01','0001','Male','Yamada','Tarou',25,'Tokyo'],\n",
    "    ['01','0002','Male','Satou','Takeshi',27,'Kanagawa'],\n",
    "    ['01','0003','Female','Tanaka','Yuko',25,'Saitama'],\n",
    "    ['02','0001','Male','Smith','Mike',22,'NewJersey'],\n",
    "    ['02','0002','Male','Turner','Tom',27,'Kansas'],\n",
    "    ['02','0003','Male','Jackson','David',22,'Florida']\n",
    "]\n",
    "data"
   ]
  },
  {
   "cell_type": "code",
   "execution_count": 22,
   "metadata": {},
   "outputs": [],
   "source": [
    "member_information = {}\n",
    "\n",
    "for recode in data:\n",
    "    key = (recode[0],recode[1])\n",
    "    info = recode[2:]\n",
    "    member_information[key] = info"
   ]
  },
  {
   "cell_type": "code",
   "execution_count": 24,
   "metadata": {
    "tags": []
   },
   "outputs": [
    {
     "output_type": "stream",
     "name": "stdout",
     "text": "number\tinformation\n('01', '0001') ['Male', 'Yamada', 'Tarou', 25, 'Tokyo']\n('01', '0002') ['Male', 'Satou', 'Takeshi', 27, 'Kanagawa']\n('01', '0003') ['Female', 'Tanaka', 'Yuko', 25, 'Saitama']\n('02', '0001') ['Male', 'Smith', 'Mike', 22, 'NewJersey']\n('02', '0002') ['Male', 'Turner', 'Tom', 27, 'Kansas']\n('02', '0003') ['Male', 'Jackson', 'David', 22, 'Florida']\n"
    }
   ],
   "source": [
    "print('number','information',sep='\\t')\n",
    "for key,info in member_information.items():\n",
    "    print(key,info)"
   ]
  },
  {
   "cell_type": "code",
   "execution_count": null,
   "metadata": {},
   "outputs": [],
   "source": []
  }
 ]
}