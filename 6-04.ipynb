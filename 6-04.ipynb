{
 "metadata": {
  "language_info": {
   "codemirror_mode": {
    "name": "ipython",
    "version": 3
   },
   "file_extension": ".py",
   "mimetype": "text/x-python",
   "name": "python",
   "nbconvert_exporter": "python",
   "pygments_lexer": "ipython3",
   "version": "3.8.2-final"
  },
  "orig_nbformat": 2,
  "kernelspec": {
   "name": "python_defaultSpec_1598151559825",
   "display_name": "Python 3.8.2 32-bit"
  }
 },
 "nbformat": 4,
 "nbformat_minor": 2,
 "cells": [
  {
   "cell_type": "code",
   "execution_count": 1,
   "metadata": {
    "tags": []
   },
   "outputs": [
    {
     "output_type": "stream",
     "name": "stdout",
     "text": "0 1 2"
    }
   ],
   "source": [
    "for i in range(3):\n",
    "    print(i,end=\" \")"
   ]
  },
  {
   "cell_type": "code",
   "execution_count": 2,
   "metadata": {
    "tags": []
   },
   "outputs": [
    {
     "output_type": "stream",
     "name": "stdout",
     "text": "1 2 3"
    }
   ],
   "source": [
    "for j in [1,2,3]:\n",
    "    print(j,end=\" \")"
   ]
  },
  {
   "cell_type": "code",
   "execution_count": 3,
   "metadata": {},
   "outputs": [
    {
     "output_type": "execute_result",
     "data": {
      "text/plain": "0"
     },
     "metadata": {},
     "execution_count": 3
    }
   ],
   "source": [
    "itr = iter([0,1,2])\n",
    "next(itr)"
   ]
  },
  {
   "cell_type": "code",
   "execution_count": 4,
   "metadata": {},
   "outputs": [
    {
     "output_type": "execute_result",
     "data": {
      "text/plain": "1"
     },
     "metadata": {},
     "execution_count": 4
    }
   ],
   "source": [
    "next(itr)"
   ]
  },
  {
   "cell_type": "code",
   "execution_count": 5,
   "metadata": {},
   "outputs": [
    {
     "output_type": "execute_result",
     "data": {
      "text/plain": "2"
     },
     "metadata": {},
     "execution_count": 5
    }
   ],
   "source": [
    "next(itr)"
   ]
  },
  {
   "cell_type": "code",
   "execution_count": 6,
   "metadata": {},
   "outputs": [
    {
     "output_type": "error",
     "ename": "StopIteration",
     "evalue": "",
     "traceback": [
      "\u001b[1;31m---------------------------------------------------------------------------\u001b[0m",
      "\u001b[1;31mStopIteration\u001b[0m                             Traceback (most recent call last)",
      "\u001b[1;32m<ipython-input-6-6693cc261707>\u001b[0m in \u001b[0;36m<module>\u001b[1;34m\u001b[0m\n\u001b[1;32m----> 1\u001b[1;33m \u001b[0mnext\u001b[0m\u001b[1;33m(\u001b[0m\u001b[0mitr\u001b[0m\u001b[1;33m)\u001b[0m\u001b[1;33m\u001b[0m\u001b[1;33m\u001b[0m\u001b[0m\n\u001b[0m",
      "\u001b[1;31mStopIteration\u001b[0m: "
     ]
    }
   ],
   "source": [
    "next(itr)"
   ]
  },
  {
   "cell_type": "code",
   "execution_count": 8,
   "metadata": {
    "tags": []
   },
   "outputs": [
    {
     "output_type": "stream",
     "name": "stdout",
     "text": "0\n1\n2\n次はありません\n"
    }
   ],
   "source": [
    "itr = iter(range(3))\n",
    "d = \"次はありません\"\n",
    "print(next(itr,d))\n",
    "print(next(itr,d))\n",
    "print(next(itr,d))\n",
    "print(next(itr,d))"
   ]
  },
  {
   "cell_type": "code",
   "execution_count": 10,
   "metadata": {
    "tags": []
   },
   "outputs": [
    {
     "output_type": "stream",
     "name": "stdout",
     "text": "s p a m"
    }
   ],
   "source": [
    "class MyIterator:\n",
    "    def __init__(self,data):\n",
    "        self.data = data\n",
    "        self.index = 0\n",
    "\n",
    "    def __iter__(self):\n",
    "        return self\n",
    "\n",
    "    def __next__(self):\n",
    "        if self.index == len(self.data):\n",
    "            raise StopIteration()\n",
    "        value = self.data[self.index]\n",
    "        self.index = self.index + 1\n",
    "        return value\n",
    "\n",
    "itr = MyIterator(\"spam\")\n",
    "for char in itr:\n",
    "    print(char,end = \" \")"
   ]
  },
  {
   "cell_type": "code",
   "execution_count": 11,
   "metadata": {
    "tags": []
   },
   "outputs": [
    {
     "output_type": "stream",
     "name": "stdout",
     "text": "m a p s"
    }
   ],
   "source": [
    "class Reverse:\n",
    "    '''シーケンスを逆順にループするイテレータ'''\n",
    "\n",
    "    def __init__(self,data):\n",
    "        self.data = data\n",
    "        self.index = len(data)\n",
    "\n",
    "    def __iter__(self):\n",
    "        return self\n",
    "    \n",
    "    def __next__(self):\n",
    "        if self.index == 0:\n",
    "            raise StopIteration \n",
    "        self.index = self.index-1\n",
    "        return self.data[self.index]\n",
    "\n",
    "rev  = Reverse('spam')\n",
    "for char in rev:\n",
    "    print(char,end=\" \")"
   ]
  },
  {
   "cell_type": "code",
   "execution_count": 12,
   "metadata": {
    "tags": []
   },
   "outputs": [
    {
     "output_type": "stream",
     "name": "stdout",
     "text": "f l o g"
    }
   ],
   "source": [
    "def reverse(data):\n",
    "    '''引数に受け取ったシーケンスを逆向きに返す'''\n",
    "    ret = []\n",
    "    for index in range(len(data)-1,-1,-1):\n",
    "        ret.append(data[index])\n",
    "    return ret\n",
    "\n",
    "for char in reverse('golf'):\n",
    "    print(char,end=\" \")\n"
   ]
  },
  {
   "cell_type": "code",
   "execution_count": 13,
   "metadata": {
    "tags": []
   },
   "outputs": [
    {
     "output_type": "stream",
     "name": "stdout",
     "text": "f l o g"
    }
   ],
   "source": [
    "def reverse(data):\n",
    "    for index in range(len(data) -1,-1,-1):\n",
    "        yield data[index]\n",
    "\n",
    "for char in reverse('golf'):\n",
    "    print(char,end=\" \")"
   ]
  },
  {
   "cell_type": "code",
   "execution_count": 14,
   "metadata": {},
   "outputs": [
    {
     "output_type": "execute_result",
     "data": {
      "text/plain": "['f', 'l', 'o', 'g']"
     },
     "metadata": {},
     "execution_count": 14
    }
   ],
   "source": [
    "data = 'golf'\n",
    "I = [data[i] for i in range(len(data) -1,-1,-1)]\n",
    "I"
   ]
  },
  {
   "cell_type": "code",
   "execution_count": 15,
   "metadata": {},
   "outputs": [
    {
     "output_type": "execute_result",
     "data": {
      "text/plain": "<generator object <genexpr> at 0x070B5A00>"
     },
     "metadata": {},
     "execution_count": 15
    }
   ],
   "source": [
    "g = (data[i] for i in range(len(data)-1,-1,-1))\n",
    "g"
   ]
  },
  {
   "cell_type": "code",
   "execution_count": 16,
   "metadata": {},
   "outputs": [
    {
     "output_type": "execute_result",
     "data": {
      "text/plain": "['f', 'l', 'o', 'g']"
     },
     "metadata": {},
     "execution_count": 16
    }
   ],
   "source": [
    "list(g)"
   ]
  },
  {
   "cell_type": "code",
   "execution_count": 19,
   "metadata": {},
   "outputs": [],
   "source": [
    "import random\n",
    "random.seed(1)\n",
    "msgs = [\"Hi\",\"Hello\",\"Good morning\",\"Good night\",\"See you later\",\"How are you\",\"HAve a good day\"]\n",
    "with open(\"some.txt\",\"w\") as f:\n",
    "    for i in range(1000000):\n",
    "        f.write(\"{},{}\\n\".format(i,random.choice(msgs)))"
   ]
  },
  {
   "cell_type": "code",
   "execution_count": 20,
   "metadata": {},
   "outputs": [
    {
     "output_type": "error",
     "ename": "SyntaxError",
     "evalue": "invalid syntax (<ipython-input-20-3c1ab7ea70ca>, line 2)",
     "traceback": [
      "\u001b[1;36m  File \u001b[1;32m\"<ipython-input-20-3c1ab7ea70ca>\"\u001b[1;36m, line \u001b[1;32m2\u001b[0m\n\u001b[1;33m    1,See you later\u001b[0m\n\u001b[1;37m          ^\u001b[0m\n\u001b[1;31mSyntaxError\u001b[0m\u001b[1;31m:\u001b[0m invalid syntax\n"
     ]
    }
   ],
   "source": [
    "0,Helli\n",
    "1,See you later\n",
    "2,Have a good day\n",
    "\n",
    "999999,Hi"
   ]
  },
  {
   "cell_type": "code",
   "execution_count": 21,
   "metadata": {
    "tags": []
   },
   "outputs": [
    {
     "output_type": "stream",
     "name": "stdout",
     "text": "0,Hello\n1,See you later\n2,HAve a good day\nWall time: 335 ms\n"
    }
   ],
   "source": [
    "%%time\n",
    "f = open('some.txt')\n",
    "body = f.read()\n",
    "lines = body.split('\\n')\n",
    "print('\\n'.join(lines[:3]))"
   ]
  },
  {
   "cell_type": "code",
   "execution_count": 23,
   "metadata": {
    "tags": []
   },
   "outputs": [
    {
     "output_type": "stream",
     "name": "stdout",
     "text": "0,Hello\n1,See you later\n"
    }
   ],
   "source": [
    "f = open('some.txt')\n",
    "print(next(f),end=\"\")\n",
    "print(next(f),end=\"\")\n",
    "f.close()"
   ]
  },
  {
   "cell_type": "code",
   "execution_count": 24,
   "metadata": {
    "tags": [
     "outputPrepend"
    ]
   },
   "outputs": [
    {
     "output_type": "stream",
     "name": "stdout",
     "text": "856,Hello\n998857,See you later\n998858,See you later\n998859,See you later\n998860,Hi\n998861,HAve a good day\n998862,Hello\n998863,Good morning\n998864,Good morning\n998865,Hello\n998866,How are you\n998867,Good morning\n998868,HAve a good day\n998869,Hi\n998870,How are you\n998871,Good night\n998872,HAve a good day\n998873,Hi\n998874,How are you\n998875,Good night\n998876,See you later\n998877,Good morning\n998878,How are you\n998879,How are you\n998880,How are you\n998881,See you later\n998882,Hello\n998883,Good morning\n998884,How are you\n998885,Hi\n998886,HAve a good day\n998887,Hello\n998888,Good night\n998889,Good morning\n998890,See you later\n998891,HAve a good day\n998892,Good night\n998893,Good night\n998894,Hello\n998895,Hello\n998896,Good night\n998897,Hi\n998898,Hi\n998899,See you later\n998900,Good morning\n998901,Hi\n998902,Hi\n998903,Good morning\n998904,Good night\n998905,See you later\n998906,HAve a good day\n998907,How are you\n998908,Good morning\n998909,Good night\n998910,Hello\n998911,How are you\n998912,Hi\n998913,See you later\n998914,HAve a good day\n998915,How are you\n998916,See you later\n998917,See you later\n998918,HAve a good day\n998919,How are you\n998920,See you later\n998921,How are you\n998922,Good morning\n998923,Good night\n998924,See you later\n998925,How are you\n998926,Good morning\n998927,Hi\n998928,Good night\n998929,Good night\n998930,HAve a good day\n998931,Good morning\n998932,How are you\n998933,See you later\n998934,Good morning\n998935,Good morning\n998936,Good morning\n998937,How are you\n998938,Hi\n998939,See you later\n998940,Good morning\n998941,How are you\n998942,See you later\n998943,Hi\n998944,Hello\n998945,See you later\n998946,Good night\n998947,Good morning\n998948,Good night\n998949,How are you\n998950,Hi\n998951,Hello\n998952,Hi\n998953,See you later\n998954,Hi\n998955,Hello\n998956,Good night\n998957,Good morning\n998958,How are you\n998959,Good night\n998960,Hi\n998961,Good night\n998962,Good morning\n998963,Hello\n998964,How are you\n998965,How are you\n998966,See you later\n998967,How are you\n998968,Good night\n998969,Hi\n998970,HAve a good day\n998971,HAve a good day\n998972,Good night\n998973,Hello\n998974,How are you\n998975,Hello\n998976,Hello\n998977,Good morning\n998978,Good night\n998979,Good night\n998980,Hello\n998981,Hi\n998982,See you later\n998983,HAve a good day\n998984,How are you\n998985,HAve a good day\n998986,Good night\n998987,How are you\n998988,Good night\n998989,See you later\n998990,Hi\n998991,See you later\n998992,Hi\n998993,Hello\n998994,Good night\n998995,How are you\n998996,Hello\n998997,Hi\n998998,HAve a good day\n998999,Good night\n999000,Good morning\n999001,HAve a good day\n999002,See you later\n999003,Hello\n999004,Hello\n999005,HAve a good day\n999006,Good morning\n999007,Good morning\n999008,How are you\n999009,Hi\n999010,See you later\n999011,HAve a good day\n999012,See you later\n999013,Good morning\n999014,How are you\n999015,Hi\n999016,See you later\n999017,Good night\n999018,Hi\n999019,Hi\n999020,HAve a good day\n999021,Good morning\n999022,Good morning\n999023,How are you\n999024,How are you\n999025,Hi\n999026,Hi\n999027,HAve a good day\n999028,Hello\n999029,Good morning\n999030,Good morning\n999031,Hi\n999032,Good morning\n999033,HAve a good day\n999034,HAve a good day\n999035,See you later\n999036,Hello\n999037,How are you\n999038,Good morning\n999039,See you later\n999040,Hi\n999041,HAve a good day\n999042,See you later\n999043,See you later\n999044,Good night\n999045,Hello\n999046,Hi\n999047,How are you\n999048,Hello\n999049,HAve a good day\n999050,Hi\n999051,See you later\n999052,Good morning\n999053,How are you\n999054,How are you\n999055,Good night\n999056,Hi\n999057,See you later\n999058,HAve a good day\n999059,See you later\n999060,HAve a good day\n999061,Good morning\n999062,Hi\n999063,Hello\n999064,Hi\n999065,Hello\n999066,See you later\n999067,How are you\n999068,HAve a good day\n999069,How are you\n999070,Hi\n999071,How are you\n999072,Hello\n999073,How are you\n999074,How are you\n999075,How are you\n999076,See you later\n999077,Hello\n999078,Hello\n999079,Good morning\n999080,HAve a good day\n999081,Good night\n999082,Hi\n999083,Hi\n999084,Hi\n999085,HAve a good day\n999086,HAve a good day\n999087,How are you\n999088,How are you\n999089,Good night\n999090,Hello\n999091,How are you\n999092,Hi\n999093,Hi\n999094,Good night\n999095,Good night\n999096,HAve a good day\n999097,Good night\n999098,How are you\n999099,Good morning\n999100,How are you\n999101,Hello\n999102,Good morning\n999103,Good morning\n999104,Good night\n999105,Good morning\n999106,Hello\n999107,How are you\n999108,Good night\n999109,Good night\n999110,Hi\n999111,See you later\n999112,Hi\n999113,Hello\n999114,How are you\n999115,Good night\n999116,Good night\n999117,Good night\n999118,Hello\n999119,Good night\n999120,Hi\n999121,Hi\n999122,See you later\n999123,Hello\n999124,Hi\n999125,Good morning\n999126,See you later\n999127,Hello\n999128,Hi\n999129,Hello\n999130,Good morning\n999131,Good night\n999132,How are you\n999133,Good night\n999134,How are you\n999135,Good morning\n999136,HAve a good day\n999137,Hello\n999138,Good night\n999139,Good night\n999140,Hello\n999141,How are you\n999142,HAve a good day\n999143,Hi\n999144,How are you\n999145,Good morning\n999146,Hello\n999147,Hello\n999148,Hi\n999149,Good morning\n999150,Good morning\n999151,See you later\n999152,See you later\n999153,Hi\n999154,HAve a good day\n999155,HAve a good day\n999156,See you later\n999157,How are you\n999158,Hello\n999159,Hi\n999160,See you later\n999161,Hi\n999162,How are you\n999163,See you later\n999164,See you later\n999165,Hi\n999166,HAve a good day\n999167,HAve a good day\n999168,How are you\n999169,Hi\n999170,Good morning\n999171,See you later\n999172,Good morning\n999173,HAve a good day\n999174,HAve a good day\n999175,How are you\n999176,How are you\n999177,Good night\n999178,Good morning\n999179,Good night\n999180,Hello\n999181,Hello\n999182,How are you\n999183,Good morning\n999184,Good night\n999185,Hello\n999186,Hello\n999187,Hello\n999188,See you later\n999189,Hello\n999190,Hi\n999191,Hi\n999192,Good night\n999193,Good morning\n999194,See you later\n999195,Good morning\n999196,Good morning\n999197,Good night\n999198,HAve a good day\n999199,Hi\n999200,Hi\n999201,Hello\n999202,Good night\n999203,Hi\n999204,Hello\n999205,Good morning\n999206,See you later\n999207,Hello\n999208,Hello\n999209,See you later\n999210,Good night\n999211,Hi\n999212,Good night\n999213,Hello\n999214,HAve a good day\n999215,Good morning\n999216,Good morning\n999217,Hello\n999218,HAve a good day\n999219,Good night\n999220,HAve a good day\n999221,See you later\n999222,Hello\n999223,Hello\n999224,Hi\n999225,Good morning\n999226,How are you\n999227,Hello\n999228,Good night\n999229,Hi\n999230,Hello\n999231,How are you\n999232,HAve a good day\n999233,Good night\n999234,Hello\n999235,How are you\n999236,Good night\n999237,Good night\n999238,Hello\n999239,Good night\n999240,Hi\n999241,Hi\n999242,Good morning\n999243,See you later\n999244,HAve a good day\n999245,See you later\n999246,Hello\n999247,Hello\n999248,How are you\n999249,Hello\n999250,How are you\n999251,Hi\n999252,Hello\n999253,Good night\n999254,Hello\n999255,Hi\n999256,Hi\n999257,HAve a good day\n999258,See you later\n999259,Hello\n999260,HAve a good day\n999261,Good morning\n999262,How are you\n999263,Good morning\n999264,See you later\n999265,Hello\n999266,See you later\n999267,Hi\n999268,Good morning\n999269,Hi\n999270,Hello\n999271,Hello\n999272,HAve a good day\n999273,Hello\n999274,Good morning\n999275,How are you\n999276,Good morning\n999277,HAve a good day\n999278,See you later\n999279,Good night\n999280,See you later\n999281,See you later\n999282,HAve a good day\n999283,Hello\n999284,Hello\n999285,How are you\n999286,Good morning\n999287,Good night\n999288,HAve a good day\n999289,Good night\n999290,Hi\n999291,Good morning\n999292,Hi\n999293,Good morning\n999294,Hi\n999295,Good morning\n999296,HAve a good day\n999297,Hello\n999298,Good morning\n999299,Good night\n999300,HAve a good day\n999301,Good night\n999302,HAve a good day\n999303,Hello\n999304,Good morning\n999305,Hi\n999306,See you later\n999307,Hi\n999308,Good morning\n999309,Hi\n999310,HAve a good day\n999311,Good night\n999312,Good morning\n999313,HAve a good day\n999314,Hello\n999315,Hi\n999316,HAve a good day\n999317,Good night\n999318,Good night\n999319,Good night\n999320,Good night\n999321,Hi\n999322,Good night\n999323,Hi\n999324,HAve a good day\n999325,Good morning\n999326,HAve a good day\n999327,Hi\n999328,Hello\n999329,Good morning\n999330,Hello\n999331,Hello\n999332,How are you\n999333,Hi\n999334,Hello\n999335,How are you\n999336,Good morning\n999337,How are you\n999338,Hi\n999339,Hi\n999340,Hello\n999341,Hi\n999342,Hi\n999343,Hello\n999344,HAve a good day\n999345,Good morning\n999346,Good morning\n999347,HAve a good day\n999348,Good morning\n999349,HAve a good day\n999350,HAve a good day\n999351,See you later\n999352,Good morning\n999353,How are you\n999354,Hi\n999355,HAve a good day\n999356,HAve a good day\n999357,Good morning\n999358,Hello\n999359,Good night\n999360,See you later\n999361,HAve a good day\n999362,See you later\n999363,Hello\n999364,Hello\n999365,See you later\n999366,Good night\n999367,Hello\n999368,Good morning\n999369,How are you\n999370,Hello\n999371,Hello\n999372,Hello\n999373,HAve a good day\n999374,Good night\n999375,Good night\n999376,Good morning\n999377,Hello\n999378,Hi\n999379,Good morning\n999380,How are you\n999381,Hi\n999382,HAve a good day\n999383,Hello\n999384,Hello\n999385,HAve a good day\n999386,Hi\n999387,Good morning\n999388,See you later\n999389,See you later\n999390,HAve a good day\n999391,How are you\n999392,How are you\n999393,See you later\n999394,HAve a good day\n999395,Good morning\n999396,See you later\n999397,Hello\n999398,See you later\n999399,See you later\n999400,Hi\n999401,Hello\n999402,Hello\n999403,Good morning\n999404,Hello\n999405,Good morning\n999406,HAve a good day\n999407,Good morning\n999408,See you later\n999409,See you later\n999410,Hi\n999411,Hi\n999412,See you later\n999413,How are you\n999414,HAve a good day\n999415,Hello\n999416,See you later\n999417,See you later\n999418,Hello\n999419,Hello\n999420,See you later\n999421,See you later\n999422,See you later\n999423,Good morning\n999424,Hi\n999425,Hi\n999426,Good morning\n999427,Hi\n999428,HAve a good day\n999429,How are you\n999430,See you later\n999431,HAve a good day\n999432,See you later\n999433,Hi\n999434,See you later\n999435,Good morning\n999436,How are you\n999437,Good morning\n999438,How are you\n999439,How are you\n999440,Good night\n999441,See you later\n999442,How are you\n999443,Good morning\n999444,See you later\n999445,HAve a good day\n999446,How are you\n999447,Good morning\n999448,Hello\n999449,See you later\n999450,Good morning\n999451,Hello\n999452,How are you\n999453,Good morning\n999454,Hi\n999455,Good night\n999456,Hi\n999457,Good morning\n999458,Hello\n999459,Hi\n999460,Good night\n999461,Hello\n999462,Good night\n999463,HAve a good day\n999464,Hi\n999465,Good morning\n999466,Good night\n999467,Hello\n999468,Good morning\n999469,Good night\n999470,Hello\n999471,Hello\n999472,Hello\n999473,Hello\n999474,Good morning\n999475,Good night\n999476,Good morning\n999477,Hi\n999478,See you later\n999479,HAve a good day\n999480,How are you\n999481,HAve a good day\n999482,How are you\n999483,Hello\n999484,HAve a good day\n999485,Hello\n999486,Good morning\n999487,Hello\n999488,How are you\n999489,Hello\n999490,See you later\n999491,See you later\n999492,Good night\n999493,Hello\n999494,HAve a good day\n999495,Good night\n999496,Hi\n999497,Good morning\n999498,HAve a good day\n999499,Good night\n999500,How are you\n999501,Hello\n999502,Hello\n999503,HAve a good day\n999504,How are you\n999505,Hi\n999506,How are you\n999507,HAve a good day\n999508,See you later\n999509,Good morning\n999510,Good morning\n999511,See you later\n999512,Hi\n999513,How are you\n999514,HAve a good day\n999515,How are you\n999516,How are you\n999517,HAve a good day\n999518,HAve a good day\n999519,Hi\n999520,Good night\n999521,Hi\n999522,HAve a good day\n999523,HAve a good day\n999524,HAve a good day\n999525,Hello\n999526,Good morning\n999527,Hello\n999528,Hello\n999529,Hello\n999530,Hello\n999531,How are you\n999532,How are you\n999533,Good night\n999534,How are you\n999535,Hi\n999536,Good night\n999537,HAve a good day\n999538,Hi\n999539,HAve a good day\n999540,How are you\n999541,See you later\n999542,Good morning\n999543,Good night\n999544,HAve a good day\n999545,Good morning\n999546,See you later\n999547,Good night\n999548,How are you\n999549,How are you\n999550,Hi\n999551,HAve a good day\n999552,Good morning\n999553,How are you\n999554,How are you\n999555,How are you\n999556,Hi\n999557,Good night\n999558,HAve a good day\n999559,Hi\n999560,Good morning\n999561,Good morning\n999562,HAve a good day\n999563,HAve a good day\n999564,How are you\n999565,Hi\n999566,Hello\n999567,Good morning\n999568,See you later\n999569,Hi\n999570,HAve a good day\n999571,HAve a good day\n999572,HAve a good day\n999573,How are you\n999574,HAve a good day\n999575,Hi\n999576,Hello\n999577,HAve a good day\n999578,Hello\n999579,Hi\n999580,Good night\n999581,See you later\n999582,How are you\n999583,How are you\n999584,How are you\n999585,See you later\n999586,How are you\n999587,Good morning\n999588,HAve a good day\n999589,Good morning\n999590,Hi\n999591,Hi\n999592,See you later\n999593,Good morning\n999594,Good morning\n999595,Good night\n999596,See you later\n999597,Hi\n999598,Good night\n999599,Hi\n999600,See you later\n999601,Good morning\n999602,See you later\n999603,HAve a good day\n999604,Hi\n999605,Hi\n999606,Hello\n999607,HAve a good day\n999608,HAve a good day\n999609,Good morning\n999610,Good morning\n999611,Hello\n999612,Hi\n999613,HAve a good day\n999614,Hi\n999615,Good night\n999616,Good night\n999617,Hello\n999618,HAve a good day\n999619,Hi\n999620,How are you\n999621,See you later\n999622,HAve a good day\n999623,Good night\n999624,How are you\n999625,Good morning\n999626,See you later\n999627,How are you\n999628,HAve a good day\n999629,Good morning\n999630,Hi\n999631,Hi\n999632,Hello\n999633,Good night\n999634,HAve a good day\n999635,How are you\n999636,Good night\n999637,HAve a good day\n999638,Hello\n999639,See you later\n999640,HAve a good day\n999641,Good night\n999642,HAve a good day\n999643,How are you\n999644,Hi\n999645,Hello\n999646,Hi\n999647,How are you\n999648,See you later\n999649,See you later\n999650,Hi\n999651,Good morning\n999652,Good morning\n999653,HAve a good day\n999654,See you later\n999655,HAve a good day\n999656,Good night\n999657,See you later\n999658,Good morning\n999659,How are you\n999660,Good night\n999661,Good morning\n999662,How are you\n999663,How are you\n999664,Good morning\n999665,Hi\n999666,See you later\n999667,HAve a good day\n999668,See you later\n999669,How are you\n999670,Hello\n999671,Hello\n999672,How are you\n999673,Hello\n999674,HAve a good day\n999675,Good night\n999676,How are you\n999677,Hi\n999678,See you later\n999679,Hi\n999680,Good morning\n999681,How are you\n999682,Good night\n999683,Hello\n999684,Hi\n999685,Hi\n999686,Good morning\n999687,See you later\n999688,See you later\n999689,See you later\n999690,How are you\n999691,HAve a good day\n999692,Hi\n999693,Good night\n999694,Hi\n999695,HAve a good day\n999696,See you later\n999697,HAve a good day\n999698,How are you\n999699,Hello\n999700,Hello\n999701,See you later\n999702,See you later\n999703,Good morning\n999704,How are you\n999705,See you later\n999706,HAve a good day\n999707,How are you\n999708,Hi\n999709,Good morning\n999710,Hi\n999711,Hi\n999712,How are you\n999713,Hello\n999714,Good morning\n999715,HAve a good day\n999716,Hi\n999717,See you later\n999718,How are you\n999719,Hi\n999720,HAve a good day\n999721,HAve a good day\n999722,Hello\n999723,How are you\n999724,Good night\n999725,Hello\n999726,Hello\n999727,HAve a good day\n999728,Hi\n999729,Hello\n999730,HAve a good day\n999731,Hello\n999732,Hi\n999733,See you later\n999734,See you later\n999735,HAve a good day\n999736,Hi\n999737,Hello\n999738,Good morning\n999739,Hi\n999740,Hi\n999741,See you later\n999742,See you later\n999743,See you later\n999744,Good night\n999745,HAve a good day\n999746,See you later\n999747,Good night\n999748,Hello\n999749,See you later\n999750,Hello\n999751,Good night\n999752,Hello\n999753,Hi\n999754,Good morning\n999755,How are you\n999756,Good night\n999757,Hello\n999758,Good night\n999759,HAve a good day\n999760,See you later\n999761,Hi\n999762,How are you\n999763,See you later\n999764,HAve a good day\n999765,Good night\n999766,Good night\n999767,How are you\n999768,HAve a good day\n999769,Hello\n999770,Hi\n999771,Good night\n999772,Good night\n999773,How are you\n999774,Good night\n999775,HAve a good day\n999776,Good night\n999777,See you later\n999778,How are you\n999779,Hi\n999780,Hello\n999781,Good night\n999782,See you later\n999783,Good night\n999784,Good morning\n999785,Hello\n999786,See you later\n999787,How are you\n999788,Hello\n999789,See you later\n999790,HAve a good day\n999791,Good night\n999792,How are you\n999793,Hello\n999794,See you later\n999795,How are you\n999796,HAve a good day\n999797,Hello\n999798,How are you\n999799,HAve a good day\n999800,Good night\n999801,How are you\n999802,Hi\n999803,Hi\n999804,Hello\n999805,Good night\n999806,Hi\n999807,Hello\n999808,Good morning\n999809,Hello\n999810,Hello\n999811,Hello\n999812,Good night\n999813,HAve a good day\n999814,How are you\n999815,See you later\n999816,Hello\n999817,HAve a good day\n999818,See you later\n999819,Hi\n999820,HAve a good day\n999821,Hi\n999822,Good night\n999823,How are you\n999824,How are you\n999825,HAve a good day\n999826,How are you\n999827,Hello\n999828,Good morning\n999829,Good night\n999830,Good night\n999831,See you later\n999832,Hello\n999833,How are you\n999834,HAve a good day\n999835,Good night\n999836,Hi\n999837,Good night\n999838,Good night\n999839,See you later\n999840,Hi\n999841,How are you\n999842,Hi\n999843,Good night\n999844,HAve a good day\n999845,HAve a good day\n999846,How are you\n999847,Good morning\n999848,How are you\n999849,Good morning\n999850,Hi\n999851,HAve a good day\n999852,How are you\n999853,Hello\n999854,Hi\n999855,See you later\n999856,How are you\n999857,Hello\n999858,Good morning\n999859,See you later\n999860,How are you\n999861,Hi\n999862,How are you\n999863,See you later\n999864,Hi\n999865,Good morning\n999866,Good morning\n999867,Hi\n999868,Good night\n999869,Good night\n999870,Good night\n999871,How are you\n999872,How are you\n999873,How are you\n999874,Hi\n999875,Good morning\n999876,HAve a good day\n999877,How are you\n999878,Hi\n999879,Hi\n999880,HAve a good day\n999881,How are you\n999882,HAve a good day\n999883,See you later\n999884,Good night\n999885,Good night\n999886,HAve a good day\n999887,HAve a good day\n999888,Good night\n999889,HAve a good day\n999890,Hi\n999891,See you later\n999892,Good night\n999893,Good morning\n999894,Good night\n999895,HAve a good day\n999896,Hi\n999897,HAve a good day\n999898,How are you\n999899,Good night\n999900,Hi\n999901,HAve a good day\n999902,Good morning\n999903,How are you\n999904,HAve a good day\n999905,See you later\n999906,Good night\n999907,Hello\n999908,Hi\n999909,Hello\n999910,How are you\n999911,Good morning\n999912,Good night\n999913,How are you\n999914,How are you\n999915,How are you\n999916,Good morning\n999917,Good morning\n999918,Hi\n999919,See you later\n999920,Hi\n999921,Hello\n999922,See you later\n999923,Good night\n999924,See you later\n999925,See you later\n999926,Good morning\n999927,How are you\n999928,Hello\n999929,HAve a good day\n999930,See you later\n999931,Hi\n999932,Hi\n999933,See you later\n999934,Hello\n999935,Good morning\n999936,Hello\n999937,Hi\n999938,Hi\n999939,HAve a good day\n999940,HAve a good day\n999941,Hello\n999942,HAve a good day\n999943,See you later\n999944,See you later\n999945,HAve a good day\n999946,HAve a good day\n999947,HAve a good day\n999948,See you later\n999949,Hi\n999950,Hi\n999951,How are you\n999952,HAve a good day\n999953,HAve a good day\n999954,See you later\n999955,Hi\n999956,How are you\n999957,See you later\n999958,Good night\n999959,How are you\n999960,Hi\n999961,See you later\n999962,Good night\n999963,Hi\n999964,How are you\n999965,How are you\n999966,Hello\n999967,HAve a good day\n999968,Good morning\n999969,Hello\n999970,How are you\n999971,HAve a good day\n999972,Hi\n999973,How are you\n999974,Hello\n999975,See you later\n999976,Good morning\n999977,Hi\n999978,Good night\n999979,How are you\n999980,Good night\n999981,Good night\n999982,Good night\n999983,See you later\n999984,HAve a good day\n999985,Hello\n999986,Hello\n999987,How are you\n999988,Hi\n999989,HAve a good day\n999990,Good morning\n999991,HAve a good day\n999992,Hello\n999993,How are you\n999994,Good night\n999995,Good morning\n999996,Hello\n999997,Hello\n999998,Hello\n999999,Hi\n"
    }
   ],
   "source": [
    "f = open('some.txt')\n",
    "c = 0\n",
    "for I in f:\n",
    "    print(I,end='')\n",
    "    if c == 2:\n",
    "        break\n",
    "        c += 1\n",
    "f.close()"
   ]
  },
  {
   "cell_type": "code",
   "execution_count": 25,
   "metadata": {
    "tags": []
   },
   "outputs": [
    {
     "output_type": "stream",
     "name": "stderr",
     "text": "UsageError: Cell magic `%%Time` not found.\n"
    }
   ],
   "source": [
    "%%Time\n",
    "f = open('some.txt')\n",
    "c = 0\n",
    "for I in f:\n",
    "    print(I,end='')\n",
    "    if c == 2:\n",
    "        break\n",
    "    c += 1\n",
    "f.close()"
   ]
  },
  {
   "cell_type": "code",
   "execution_count": 26,
   "metadata": {
    "tags": []
   },
   "outputs": [
    {
     "output_type": "stream",
     "name": "stdout",
     "text": "0,Hello\n1,See you later\n2,HAve a good day\nWall time: 2 ms\n"
    }
   ],
   "source": [
    "%%time\n",
    "with open('some.txt','r') as f:\n",
    "    for c,I in enumerate(f):\n",
    "        print(I,end='')\n",
    "        if c==2:\n",
    "            break"
   ]
  },
  {
   "cell_type": "code",
   "execution_count": 28,
   "metadata": {
    "tags": []
   },
   "outputs": [
    {
     "output_type": "stream",
     "name": "stdout",
     "text": "0,Hello\n1,See you later\n2,HAve a good day\n\nWall time: 1.99 ms\n"
    }
   ],
   "source": [
    "%%time\n",
    "f = open('some.txt')\n",
    "lines = ''\n",
    "for i in range(3):\n",
    "    lines += f.readline()\n",
    "print(lines)\n",
    "f.close()"
   ]
  },
  {
   "cell_type": "code",
   "execution_count": 30,
   "metadata": {},
   "outputs": [],
   "source": [
    "def gen_prime(x = 2):\n",
    "    '''素数を返すジェネレータ関数（1）愚直な方法'''\n",
    "    while True:\n",
    "        for i in range(2,x):\n",
    "            if x % i == 0:\n",
    "                break\n",
    "        else:\n",
    "            yield x\n",
    "        x += 1"
   ]
  },
  {
   "cell_type": "code",
   "execution_count": 31,
   "metadata": {},
   "outputs": [],
   "source": [
    "import math\n",
    "def gen_prime1(x=2):\n",
    "    '''素数を返すジェネレータ関数（2）sqrt(x)以下だけ調べる方法'''\n",
    "    while True:\n",
    "        for i in range(2, int(math.sqrt(x))+1):\n",
    "            if x % i == 0:\n",
    "                break\n",
    "        else:\n",
    "            yield x\n",
    "        x += 1\n",
    "    "
   ]
  },
  {
   "cell_type": "code",
   "execution_count": 32,
   "metadata": {
    "tags": []
   },
   "outputs": [
    {
     "output_type": "stream",
     "name": "stdout",
     "text": "2 3 5 7 11 13 17 19 23 29  \n"
    }
   ],
   "source": [
    "i = gen_prime()\n",
    "for c in range(10):\n",
    "    print(next(i),end=\" \")\n",
    "print(\" \")"
   ]
  },
  {
   "cell_type": "code",
   "execution_count": 33,
   "metadata": {
    "tags": []
   },
   "outputs": [
    {
     "output_type": "stream",
     "name": "stdout",
     "text": "100003 100019 100043 100049 100057 100069 100103 100109 100129 100151  \nWall time: 196 ms\n"
    }
   ],
   "source": [
    "%%time\n",
    "i = gen_prime(100000)\n",
    "for c in range(10):\n",
    "    print(next(i),end=\" \")\n",
    "print(\" \")"
   ]
  },
  {
   "cell_type": "code",
   "execution_count": 34,
   "metadata": {
    "tags": []
   },
   "outputs": [
    {
     "output_type": "stream",
     "name": "stdout",
     "text": "100003 100019 100043 100049 100057 100069 100103 100109 100129 100151  \nWall time: 2.99 ms\n"
    }
   ],
   "source": [
    "%%time\n",
    "i = gen_prime1(100000)\n",
    "for c in range(10):\n",
    "    print(next(i),end=\" \")\n",
    "print(\" \")"
   ]
  },
  {
   "cell_type": "code",
   "execution_count": null,
   "metadata": {},
   "outputs": [],
   "source": []
  }
 ]
}