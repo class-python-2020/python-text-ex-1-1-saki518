{
 "metadata": {
  "language_info": {
   "codemirror_mode": {
    "name": "ipython",
    "version": 3
   },
   "file_extension": ".py",
   "mimetype": "text/x-python",
   "name": "python",
   "nbconvert_exporter": "python",
   "pygments_lexer": "ipython3",
   "version": "3.8.2-final"
  },
  "orig_nbformat": 2,
  "kernelspec": {
   "name": "python_defaultSpec_1598165835276",
   "display_name": "Python 3.8.2 32-bit"
  }
 },
 "nbformat": 4,
 "nbformat_minor": 2,
 "cells": [
  {
   "cell_type": "code",
   "execution_count": 1,
   "metadata": {},
   "outputs": [
    {
     "output_type": "execute_result",
     "data": {
      "text/plain": "'C:\\\\Users\\\\isowa\\\\AppData\\\\Local\\\\Programs\\\\Python\\\\Python38-32\\\\lib\\\\random.py'"
     },
     "metadata": {},
     "execution_count": 1
    }
   ],
   "source": [
    "import random\n",
    "path_to_random = random.__file__\n",
    "path_to_random"
   ]
  },
  {
   "cell_type": "code",
   "execution_count": 2,
   "metadata": {},
   "outputs": [],
   "source": [
    "import os "
   ]
  },
  {
   "cell_type": "code",
   "execution_count": 3,
   "metadata": {},
   "outputs": [
    {
     "output_type": "execute_result",
     "data": {
      "text/plain": "True"
     },
     "metadata": {},
     "execution_count": 3
    }
   ],
   "source": [
    "os.path.exists(path_to_random)"
   ]
  },
  {
   "cell_type": "code",
   "execution_count": 4,
   "metadata": {},
   "outputs": [
    {
     "output_type": "execute_result",
     "data": {
      "text/plain": "False"
     },
     "metadata": {},
     "execution_count": 4
    }
   ],
   "source": [
    "os.path.isdir(path_to_random)"
   ]
  },
  {
   "cell_type": "code",
   "execution_count": 5,
   "metadata": {},
   "outputs": [
    {
     "output_type": "execute_result",
     "data": {
      "text/plain": "True"
     },
     "metadata": {},
     "execution_count": 5
    }
   ],
   "source": [
    "os.path.isfile(path_to_random)"
   ]
  },
  {
   "cell_type": "code",
   "execution_count": 6,
   "metadata": {},
   "outputs": [
    {
     "output_type": "execute_result",
     "data": {
      "text/plain": "'C:\\\\Users\\\\isowa\\\\AppData\\\\Local\\\\Programs\\\\Python\\\\Python38-32\\\\lib'"
     },
     "metadata": {},
     "execution_count": 6
    }
   ],
   "source": [
    "parent_path_name = os.path.dirname(path_to_random)\n",
    "parent_path_name"
   ]
  },
  {
   "cell_type": "code",
   "execution_count": 7,
   "metadata": {},
   "outputs": [
    {
     "output_type": "execute_result",
     "data": {
      "text/plain": "'random.py'"
     },
     "metadata": {},
     "execution_count": 7
    }
   ],
   "source": [
    "os.path.basename(path_to_random)"
   ]
  },
  {
   "cell_type": "code",
   "execution_count": 9,
   "metadata": {},
   "outputs": [
    {
     "output_type": "execute_result",
     "data": {
      "text/plain": "('C:\\\\Users\\\\isowa\\\\AppData\\\\Local\\\\Programs\\\\Python\\\\Python38-32\\\\lib',\n 'random.py')"
     },
     "metadata": {},
     "execution_count": 9
    }
   ],
   "source": [
    "dir_path_name,file_name = os.path.split(path_to_random)\n",
    "dir_path_name,file_name"
   ]
  },
  {
   "cell_type": "code",
   "execution_count": 10,
   "metadata": {},
   "outputs": [
    {
     "output_type": "execute_result",
     "data": {
      "text/plain": "'C:\\\\Users\\\\isowa\\\\AppData\\\\Local\\\\Programs\\\\Python\\\\Python38-32\\\\lib\\\\random.py'"
     },
     "metadata": {},
     "execution_count": 10
    }
   ],
   "source": [
    "os.path.join(dir_path_name,file_name)"
   ]
  },
  {
   "cell_type": "code",
   "execution_count": 11,
   "metadata": {},
   "outputs": [
    {
     "output_type": "execute_result",
     "data": {
      "text/plain": "29617"
     },
     "metadata": {},
     "execution_count": 11
    }
   ],
   "source": [
    "os.path.getsize(path_to_random)"
   ]
  },
  {
   "cell_type": "code",
   "execution_count": 12,
   "metadata": {
    "tags": []
   },
   "outputs": [
    {
     "output_type": "stream",
     "name": "stdout",
     "text": "os.getcwd(): C:\\Users\\isowa\\AppData\\Local\\Programs\\Microsoft VS Code\n"
    }
   ],
   "source": [
    "initial_dir = os.getcwd()\n",
    "print(\"os.getcwd():\",initial_dir)"
   ]
  },
  {
   "cell_type": "code",
   "execution_count": 13,
   "metadata": {},
   "outputs": [],
   "source": [
    "my_dir = \"os_practice\"\n",
    "os.mkdir(my_dir)"
   ]
  },
  {
   "cell_type": "code",
   "execution_count": 14,
   "metadata": {},
   "outputs": [],
   "source": [
    "os.chdir(my_dir)"
   ]
  },
  {
   "cell_type": "code",
   "execution_count": 15,
   "metadata": {
    "tags": []
   },
   "outputs": [
    {
     "output_type": "stream",
     "name": "stdout",
     "text": "os.getcwd(): C:\\Users\\isowa\\AppData\\Local\\Programs\\Microsoft VS Code\\os_practice\n"
    }
   ],
   "source": [
    "print(\"os.getcwd():\",os.getcwd())"
   ]
  },
  {
   "cell_type": "code",
   "execution_count": 21,
   "metadata": {},
   "outputs": [],
   "source": [
    "file_name = \"os_test.txt\"\n",
    "with open(file_name,\"w\")as f:\n",
    "    f.write(\"Live in the present.\")"
   ]
  },
  {
   "cell_type": "code",
   "execution_count": 22,
   "metadata": {
    "tags": []
   },
   "outputs": [
    {
     "output_type": "stream",
     "name": "stdout",
     "text": "os.listdir(): ['os_test.txt']\n"
    }
   ],
   "source": [
    "print(\"os.listdir():\",os.listdir())"
   ]
  },
  {
   "cell_type": "code",
   "execution_count": 23,
   "metadata": {},
   "outputs": [],
   "source": [
    "new_file_name  =\"new_os_test.txt\"\n",
    "os.rename(file_name,new_file_name)"
   ]
  },
  {
   "cell_type": "code",
   "execution_count": 24,
   "metadata": {
    "tags": []
   },
   "outputs": [
    {
     "output_type": "stream",
     "name": "stdout",
     "text": "os.listdir(): ['new_os_test.txt']\n"
    }
   ],
   "source": [
    "print(\"os.listdir():\",os.listdir())"
   ]
  },
  {
   "cell_type": "code",
   "execution_count": 25,
   "metadata": {},
   "outputs": [],
   "source": [
    "os.remove(new_file_name)"
   ]
  },
  {
   "cell_type": "code",
   "execution_count": 26,
   "metadata": {
    "tags": []
   },
   "outputs": [
    {
     "output_type": "stream",
     "name": "stdout",
     "text": "os.listdir(): []\n"
    }
   ],
   "source": [
    "print(\"os.listdir():\",os.listdir())"
   ]
  },
  {
   "cell_type": "code",
   "execution_count": 28,
   "metadata": {},
   "outputs": [],
   "source": [
    "os.chdir(initial_dir)"
   ]
  },
  {
   "cell_type": "code",
   "execution_count": 29,
   "metadata": {
    "tags": []
   },
   "outputs": [
    {
     "output_type": "stream",
     "name": "stdout",
     "text": "os.getcwd(): C:\\Users\\isowa\\AppData\\Local\\Programs\\Microsoft VS Code\n"
    }
   ],
   "source": [
    "print(\"os.getcwd():\",os.getcwd())"
   ]
  },
  {
   "cell_type": "code",
   "execution_count": 30,
   "metadata": {},
   "outputs": [],
   "source": [
    "os.rmdir(my_dir)"
   ]
  },
  {
   "cell_type": "code",
   "execution_count": 31,
   "metadata": {},
   "outputs": [
    {
     "output_type": "execute_result",
     "data": {
      "text/plain": "False"
     },
     "metadata": {},
     "execution_count": 31
    }
   ],
   "source": [
    "os.path.exists(my_dir)"
   ]
  },
  {
   "cell_type": "code",
   "execution_count": 32,
   "metadata": {
    "tags": []
   },
   "outputs": [
    {
     "output_type": "stream",
     "name": "stdout",
     "text": "os.getcwd(): C:\\Users\\isowa\\AppData\\Local\\Programs\\Microsoft VS Code\n"
    }
   ],
   "source": [
    "os.system('mkdir today')\n",
    "print(\"os.getcwd():\",os.getcwd())"
   ]
  },
  {
   "cell_type": "code",
   "execution_count": 34,
   "metadata": {
    "tags": []
   },
   "outputs": [
    {
     "output_type": "stream",
     "name": "stdout",
     "text": "ディレクトリ　today があります。これを消去します。\nディレクトリ　today を消去しました。\n"
    }
   ],
   "source": [
    "if os.path.exists(\"today\"):\n",
    "    print(\"ディレクトリ　today があります。これを消去します。\")\n",
    "    os.rmdir(\"today\")\n",
    "    print(\"ディレクトリ　today を消去しました。\")"
   ]
  },
  {
   "cell_type": "code",
   "execution_count": 36,
   "metadata": {
    "tags": []
   },
   "outputs": [
    {
     "output_type": "stream",
     "name": "stdout",
     "text": "environ({'ALLUSERSPROFILE': 'C:\\\\ProgramData', 'AMD_ENTRYPOINT': 'vs/workbench/services/extensions/node/extensionHostProcess', 'APPDATA': 'C:\\\\Users\\\\isowa\\\\AppData\\\\Roaming', 'APPLICATION_INSIGHTS_NO_DIAGNOSTIC_CHANNEL': 'true', 'COMMONPROGRAMFILES': 'C:\\\\Program Files (x86)\\\\Common Files', 'COMMONPROGRAMFILES(X86)': 'C:\\\\Program Files (x86)\\\\Common Files', 'COMMONPROGRAMW6432': 'C:\\\\Program Files\\\\Common Files', 'COMPUTERNAME': 'LAPTOP-B3039UU2', 'COMSPEC': 'C:\\\\Windows\\\\system32\\\\cmd.exe', 'DRIVERDATA': 'C:\\\\Windows\\\\System32\\\\Drivers\\\\DriverData', 'ELECTRON_RUN_AS_NODE': '1', 'HOMEDRIVE': 'C:', 'HOMEPATH': '\\\\Users\\\\isowa', 'LOCALAPPDATA': 'C:\\\\Users\\\\isowa\\\\AppData\\\\Local', 'LOGONSERVER': '\\\\\\\\LAPTOP-B3039UU2', 'NUMBER_OF_PROCESSORS': '8', 'ONEDRIVE': 'C:\\\\Users\\\\isowa\\\\OneDrive', 'ORIGINAL_XDG_CURRENT_DESKTOP': 'undefined', 'OS': 'Windows_NT', 'PATH': 'C:\\\\Windows\\\\system32;C:\\\\Windows;C:\\\\Windows\\\\System32\\\\Wbem;C:\\\\Windows\\\\System32\\\\WindowsPowerShell\\\\v1.0\\\\;C:\\\\Windows\\\\System32\\\\OpenSSH\\\\;C:\\\\Program Files\\\\Intel\\\\WiFi\\\\bin\\\\;C:\\\\Program Files\\\\Common Files\\\\Intel\\\\WirelessCommon\\\\;C:\\\\Program Files\\\\MySQL\\\\MySQL Server 5.7\\\\bin;C:\\\\Program Files\\\\Git\\\\cmd;C:\\\\Program Files\\\\MySQL\\\\MySQL Shell 8.0\\\\bin\\\\;C:\\\\Users\\\\isowa\\\\AppData\\\\Local\\\\Programs\\\\Python\\\\Python38-32\\\\Scripts\\\\;C:\\\\Users\\\\isowa\\\\AppData\\\\Local\\\\Programs\\\\Python\\\\Python38-32\\\\;C:\\\\Users\\\\isowa\\\\AppData\\\\Local\\\\Microsoft\\\\WindowsApps;;C:\\\\Users\\\\isowa\\\\AppData\\\\Local\\\\Programs\\\\Microsoft VS Code\\\\bin', 'PATHEXT': '.COM;.EXE;.BAT;.CMD;.VBS;.VBE;.JS;.JSE;.WSF;.WSH;.MSC', 'PIPE_LOGGING': 'true', 'PROCESSOR_ARCHITECTURE': 'x86', 'PROCESSOR_ARCHITEW6432': 'AMD64', 'PROCESSOR_IDENTIFIER': 'Intel64 Family 6 Model 142 Stepping 10, GenuineIntel', 'PROCESSOR_LEVEL': '6', 'PROCESSOR_REVISION': '8e0a', 'PROGRAMDATA': 'C:\\\\ProgramData', 'PROGRAMFILES': 'C:\\\\Program Files (x86)', 'PROGRAMFILES(X86)': 'C:\\\\Program Files (x86)', 'PROGRAMW6432': 'C:\\\\Program Files', 'PSMODULEPATH': 'C:\\\\Program Files\\\\WindowsPowerShell\\\\Modules;C:\\\\Windows\\\\system32\\\\WindowsPowerShell\\\\v1.0\\\\Modules', 'PUBLIC': 'C:\\\\Users\\\\Public', 'PYTHONIOENCODING': 'utf-8', 'PYTHONPATH': 'c:\\\\Users\\\\isowa\\\\.vscode\\\\extensions\\\\ms-python.python-2020.8.103604\\\\pythonFiles;c:\\\\Users\\\\isowa\\\\.vscode\\\\extensions\\\\ms-python.python-2020.8.103604\\\\pythonFiles\\\\lib\\\\python', 'PYTHONUNBUFFERED': '1', 'PYTHONWARNINGS': 'ignore', 'SESSIONNAME': 'Console', 'SYSTEMDRIVE': 'C:', 'SYSTEMROOT': 'C:\\\\Windows', 'TEMP': 'C:\\\\Users\\\\isowa\\\\AppData\\\\Local\\\\Temp', 'TMP': 'C:\\\\Users\\\\isowa\\\\AppData\\\\Local\\\\Temp', 'USERDOMAIN': 'LAPTOP-B3039UU2', 'USERDOMAIN_ROAMINGPROFILE': 'LAPTOP-B3039UU2', 'USERNAME': 'isowa', 'USERPROFILE': 'C:\\\\Users\\\\isowa', 'VERBOSE_LOGGING': 'true', 'VSCODE_CWD': 'C:\\\\Users\\\\isowa\\\\AppData\\\\Local\\\\Programs\\\\Microsoft VS Code', 'VSCODE_HANDLES_UNCAUGHT_ERRORS': 'true', 'VSCODE_IPC_HOOK': '\\\\\\\\.\\\\pipe\\\\bb6b73584645ac26f3ef7f86c3ee240e-1.48.1-main-sock', 'VSCODE_IPC_HOOK_EXTHOST': '\\\\\\\\.\\\\pipe\\\\vscode-ipc-c8386519-f226-4fc7-b1eb-2ac8c5be1f3d-sock', 'VSCODE_LOGS': 'C:\\\\Users\\\\isowa\\\\AppData\\\\Roaming\\\\Code\\\\logs\\\\20200823T132919', 'VSCODE_LOG_STACK': 'false', 'VSCODE_NLS_CONFIG': '{\"locale\":\"ja\",\"availableLanguages\":{\"*\":\"ja\"},\"_languagePackId\":\"60385e366b8eeb8af88064824fb7cf33.ja\",\"_translationsConfigFile\":\"C:\\\\\\\\Users\\\\\\\\isowa\\\\\\\\AppData\\\\\\\\Roaming\\\\\\\\Code\\\\\\\\clp\\\\\\\\60385e366b8eeb8af88064824fb7cf33.ja\\\\\\\\tcf.json\",\"_cacheRoot\":\"C:\\\\\\\\Users\\\\\\\\isowa\\\\\\\\AppData\\\\\\\\Roaming\\\\\\\\Code\\\\\\\\clp\\\\\\\\60385e366b8eeb8af88064824fb7cf33.ja\",\"_resolvedLanguagePackCoreLocation\":\"C:\\\\\\\\Users\\\\\\\\isowa\\\\\\\\AppData\\\\\\\\Roaming\\\\\\\\Code\\\\\\\\clp\\\\\\\\60385e366b8eeb8af88064824fb7cf33.ja\\\\\\\\3dd905126b34dcd4de81fa624eb3a8cbe7485f13\",\"_corruptedFile\":\"C:\\\\\\\\Users\\\\\\\\isowa\\\\\\\\AppData\\\\\\\\Roaming\\\\\\\\Code\\\\\\\\clp\\\\\\\\60385e366b8eeb8af88064824fb7cf33.ja\\\\\\\\corrupted.info\",\"_languagePackSupport\":true}', 'VSCODE_NODE_CACHED_DATA_DIR': 'C:\\\\Users\\\\isowa\\\\AppData\\\\Roaming\\\\Code\\\\CachedData\\\\3dd905126b34dcd4de81fa624eb3a8cbe7485f13', 'VSCODE_PID': '5588', 'WINDIR': 'C:\\\\Windows', '__COMPAT_LAYER': 'DetectorsMessageBoxErrors', 'JPY_INTERRUPT_EVENT': '604', 'IPY_INTERRUPT_EVENT': '604', 'JPY_PARENT_PID': '620', 'TERM': 'xterm-color', 'CLICOLOR': '1', 'PAGER': 'cat', 'GIT_PAGER': 'cat', 'MPLBACKEND': 'module://ipykernel.pylab.backend_inline'})\n"
    }
   ],
   "source": [
    "print(os.environ)"
   ]
  },
  {
   "cell_type": "code",
   "execution_count": 38,
   "metadata": {},
   "outputs": [
    {
     "output_type": "error",
     "ename": "KeyError",
     "evalue": "'HOME'",
     "traceback": [
      "\u001b[1;31m---------------------------------------------------------------------------\u001b[0m",
      "\u001b[1;31mKeyError\u001b[0m                                  Traceback (most recent call last)",
      "\u001b[1;32m<ipython-input-38-09d8fbcde125>\u001b[0m in \u001b[0;36m<module>\u001b[1;34m\u001b[0m\n\u001b[1;32m----> 1\u001b[1;33m \u001b[0mos\u001b[0m\u001b[1;33m.\u001b[0m\u001b[0menviron\u001b[0m\u001b[1;33m[\u001b[0m\u001b[1;34m\"HOME\"\u001b[0m\u001b[1;33m]\u001b[0m\u001b[1;33m\u001b[0m\u001b[1;33m\u001b[0m\u001b[0m\n\u001b[0m",
      "\u001b[1;32m~\\AppData\\Local\\Programs\\Python\\Python38-32\\lib\\os.py\u001b[0m in \u001b[0;36m__getitem__\u001b[1;34m(self, key)\u001b[0m\n\u001b[0;32m    673\u001b[0m         \u001b[1;32mexcept\u001b[0m \u001b[0mKeyError\u001b[0m\u001b[1;33m:\u001b[0m\u001b[1;33m\u001b[0m\u001b[1;33m\u001b[0m\u001b[0m\n\u001b[0;32m    674\u001b[0m             \u001b[1;31m# raise KeyError with the original key value\u001b[0m\u001b[1;33m\u001b[0m\u001b[1;33m\u001b[0m\u001b[1;33m\u001b[0m\u001b[0m\n\u001b[1;32m--> 675\u001b[1;33m             \u001b[1;32mraise\u001b[0m \u001b[0mKeyError\u001b[0m\u001b[1;33m(\u001b[0m\u001b[0mkey\u001b[0m\u001b[1;33m)\u001b[0m \u001b[1;32mfrom\u001b[0m \u001b[1;32mNone\u001b[0m\u001b[1;33m\u001b[0m\u001b[1;33m\u001b[0m\u001b[0m\n\u001b[0m\u001b[0;32m    676\u001b[0m         \u001b[1;32mreturn\u001b[0m \u001b[0mself\u001b[0m\u001b[1;33m.\u001b[0m\u001b[0mdecodevalue\u001b[0m\u001b[1;33m(\u001b[0m\u001b[0mvalue\u001b[0m\u001b[1;33m)\u001b[0m\u001b[1;33m\u001b[0m\u001b[1;33m\u001b[0m\u001b[0m\n\u001b[0;32m    677\u001b[0m \u001b[1;33m\u001b[0m\u001b[0m\n",
      "\u001b[1;31mKeyError\u001b[0m: 'HOME'"
     ]
    }
   ],
   "source": [
    "os.environ[\"HOME\"]"
   ]
  },
  {
   "cell_type": "code",
   "execution_count": 39,
   "metadata": {},
   "outputs": [],
   "source": [
    "os.getenv(\"HOME\")"
   ]
  },
  {
   "cell_type": "code",
   "execution_count": 45,
   "metadata": {},
   "outputs": [],
   "source": [
    "import os\n",
    "def prepare_dir(dir_name=\"save_dir\"):\n",
    "    if os.path.exists(dir_name):\n",
    "        print(\"ディレクトリ '{}'が存在します。\".format(dir_name))\n",
    "    else:\n",
    "        os.mkdir(dir_name)\n",
    "        print(\"ディレクトリ'{}'を作成しました。\".format(dir_name))"
   ]
  },
  {
   "cell_type": "code",
   "execution_count": 46,
   "metadata": {
    "tags": []
   },
   "outputs": [
    {
     "output_type": "stream",
     "name": "stdout",
     "text": "ディレクトリ'save_dir'を作成しました。\n"
    }
   ],
   "source": [
    "prepare_dir()"
   ]
  },
  {
   "cell_type": "code",
   "execution_count": 47,
   "metadata": {
    "tags": []
   },
   "outputs": [
    {
     "output_type": "stream",
     "name": "stdout",
     "text": "ディレクトリ 'save_dir'が存在します。\n"
    }
   ],
   "source": [
    "prepare_dir()"
   ]
  },
  {
   "cell_type": "code",
   "execution_count": null,
   "metadata": {},
   "outputs": [],
   "source": []
  }
 ]
}